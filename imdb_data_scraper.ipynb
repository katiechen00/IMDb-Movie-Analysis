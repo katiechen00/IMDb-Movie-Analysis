{
 "cells": [
  {
   "cell_type": "code",
   "execution_count": 1,
   "metadata": {},
   "outputs": [],
   "source": [
    "from bs4 import BeautifulSoup\n",
    "import requests\n",
    "import re\n",
    "import csv"
   ]
  },
  {
   "cell_type": "code",
   "execution_count": 2,
   "metadata": {},
   "outputs": [],
   "source": [
    "def main():\n",
    "    datalist = getData()\n",
    "    write_to_csv(datalist)"
   ]
  },
  {
   "cell_type": "code",
   "execution_count": 3,
   "metadata": {},
   "outputs": [],
   "source": [
    "# global variable to find variables using regular expression\n",
    "findTitle = re.compile(r'<a href=\"/title/(.*)</a>')\n",
    "findDuration = re.compile(r'<span class=\"runtime\">(.*) min</span>')\n",
    "findGenre = re.compile(r'<span class=\"genre\">\\s*(.*?)\\s*</span>')\n",
    "findRating = re.compile(r'<div class=\"inline-block ratings-imdb-rating\" data-value=\"(.*)\" name=\"ir\">')\n",
    "findVoteCount = re.compile(r'<span data-value=\"(.*)\" name=\"nv\">(.*)</span>')"
   ]
  },
  {
   "cell_type": "code",
   "execution_count": 4,
   "metadata": {},
   "outputs": [],
   "source": [
    "# scrape webpage\n",
    "def getData():\n",
    "    datalist = [] # store all movies\n",
    "    # store 400 movies with 50 movies in a page\n",
    "    for year in range(2000,2021):\n",
    "        year = str(year)\n",
    "        for i in range(8):\n",
    "            baseurl = 'https://www.imdb.com/search/title/?title_type=feature&release_date='+year+'-01-01,'+year+'-12-31&languages=en&sort=num_votes,desc&start='\n",
    "            url = baseurl + str(i*50+1)\n",
    "            response = requests.get(url)\n",
    "            html = response.text\n",
    "            soup = BeautifulSoup(html, \"html.parser\")\n",
    "            items = soup.find_all('div', class_ = 'lister-item-content')\n",
    "            for item in items:\n",
    "                data = [] # save all info for one movie\n",
    "                item = str(item)\n",
    "                id_title = re.findall(findTitle, item)[0]\n",
    "                id_title = id_title.split('>',1)\n",
    "                imdb_id = id_title[0].split('/',1)[0]\n",
    "                data.append(imdb_id)\n",
    "                title = id_title[1]\n",
    "                data.append(title)\n",
    "                duration = re.findall(findDuration, item)\n",
    "                # duration may be empty\n",
    "                if len(duration) != 0:\n",
    "                    data.append(int(duration[0]))\n",
    "                else:\n",
    "                    data.append(\"\")\n",
    "\n",
    "                genre = re.findall(findGenre, item)\n",
    "                data.append(genre)\n",
    "                rating = float(re.findall(findRating, item)[0])\n",
    "                data.append(rating)\n",
    "                vote_gross = re.findall(findVoteCount, item)\n",
    "                vote_count = int(vote_gross[0][0])\n",
    "                data.append(vote_count)\n",
    "                # gross may be empty\n",
    "                if len(vote_gross) > 1:\n",
    "                    gross = vote_gross[1][0]\n",
    "                    gross = int(gross.replace(',',''))\n",
    "                    data.append(gross)\n",
    "                else:\n",
    "                    data.append(\"\")\n",
    "\n",
    "                data.append(year) # insert year column\n",
    "                datalist.append(data)\n",
    "            \n",
    "    return datalist"
   ]
  },
  {
   "cell_type": "code",
   "execution_count": 5,
   "metadata": {},
   "outputs": [],
   "source": [
    "# write data to csv file\n",
    "def write_to_csv(datalist):\n",
    "    header = ['imdb_id','title','duration','genre','rating','vote_count','gross','year']\n",
    "    \n",
    "    # opening the csv file in 'w' mode \n",
    "    file = open('imdb_USmovie_data.csv', 'w', encoding='utf-8') \n",
    "\n",
    "    # writing the data into the file \n",
    "    with file:     \n",
    "        write = csv.writer(file)\n",
    "        write.writerow(header)\n",
    "        write.writerows(datalist)"
   ]
  },
  {
   "cell_type": "code",
   "execution_count": null,
   "metadata": {},
   "outputs": [],
   "source": [
    "main()"
   ]
  }
 ],
 "metadata": {
  "kernelspec": {
   "display_name": "Python 3",
   "language": "python",
   "name": "python3"
  },
  "language_info": {
   "codemirror_mode": {
    "name": "ipython",
    "version": 3
   },
   "file_extension": ".py",
   "mimetype": "text/x-python",
   "name": "python",
   "nbconvert_exporter": "python",
   "pygments_lexer": "ipython3",
   "version": "3.7.1"
  }
 },
 "nbformat": 4,
 "nbformat_minor": 2
}
